{
 "cells": [
  {
   "cell_type": "code",
   "execution_count": null,
   "metadata": {},
   "outputs": [],
   "source": [
    "interpolate raster\n",
    "encounters\n",
    "intersections\n",
    "proximity\n",
    "lateral distribution\n",
    "time in polygon\n",
    "generate flow map, reduce to flow map"
   ]
  }
 ],
 "metadata": {
  "language_info": {
   "name": "python"
  }
 },
 "nbformat": 4,
 "nbformat_minor": 2
}
