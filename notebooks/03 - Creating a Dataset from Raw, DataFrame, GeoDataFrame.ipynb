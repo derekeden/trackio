{
 "cells": [
  {
   "cell_type": "markdown",
   "metadata": {},
   "source": [
    "The `Dataset` class is the main class that is maniupulated in the `trackio` library. It contains reference to each individual `Agent` in the `Dataset`, as well as various attributes and methods that allow one to operate on the data stored in each `Agent` class object, including the track data."
   ]
  },
  {
   "cell_type": "markdown",
   "metadata": {},
   "source": [
    "There are a few ways to instantiate a `Dataset`. The first is from raw, unprocessed data files."
   ]
  },
  {
   "cell_type": "code",
   "execution_count": null,
   "metadata": {},
   "outputs": [],
   "source": [
    "import trackio as tio\n",
    "import glob\n",
    "import pandas as pd\n",
    "import geopandas as gp"
   ]
  },
  {
   "cell_type": "code",
   "execution_count": 3,
   "metadata": {},
   "outputs": [
    {
     "data": {
      "text/plain": [
       "['./files\\\\AIS_2021_01_01_clipped_to_polygon.csv']"
      ]
     },
     "execution_count": 3,
     "metadata": {},
     "output_type": "execute_result"
    }
   ],
   "source": [
    "#define raw data files\n",
    "data_path = './files'\n",
    "files = glob.glob(f'{data_path}/*clipped_to_polygon*.csv')\n",
    "\n",
    "files"
   ]
  },
  {
   "cell_type": "markdown",
   "metadata": {},
   "source": [
    "When you create a `Dataset`, you also need to specify a `data_path` keyword argument. This is where trackio will stored the processed data once you start splitting the raw data."
   ]
  },
  {
   "cell_type": "code",
   "execution_count": 4,
   "metadata": {},
   "outputs": [
    {
     "name": "stdout",
     "output_type": "stream",
     "text": [
      "\n",
      "No dataset.db found in c:\\code\\trackio\\notebooks\\example0. \n",
      "Using default units/crs. \n",
      "Edit self.meta and then run self.refresh_meta to update.\n",
      "\n"
     ]
    }
   ],
   "source": [
    "#create the Dataset\n",
    "ds = tio.read(raw_files=files,\n",
    "              data_path='example0')"
   ]
  },
  {
   "cell_type": "markdown",
   "metadata": {},
   "source": [
    "This warning just means that no `dataset.db` file was found in the `data_path`. This file contains metadata about the `Dataset`.\n",
    "\n",
    "You can view metadata from the `Dataset` by using the `repr`, or by accessing the `Dataset.meta` attribute."
   ]
  },
  {
   "cell_type": "code",
   "execution_count": 5,
   "metadata": {},
   "outputs": [
    {
     "data": {
      "text/plain": [
       "Type:\n",
       "    <class 'trackio.Dataset.Dataset'>\n",
       "Status:\n",
       "    1 Unprocessed CSV Files\n",
       "    0 Processed CSV Files\n",
       "    0 Unsplit Agent Files\n",
       "    0 Split Agent Files\n",
       "Static Data Fields:\n",
       "    []\n",
       "Dynamic Data Fields:\n",
       "    ['X', 'Y']\n",
       "Metadata:\n",
       "    X: degrees\n",
       "    Y: degrees\n",
       "    CRS: EPSG:4326\n",
       "Data Path:\n",
       "    c:\\code\\trackio\\notebooks\\example0"
      ]
     },
     "execution_count": 5,
     "metadata": {},
     "output_type": "execute_result"
    }
   ],
   "source": [
    "#the repr\n",
    "ds"
   ]
  },
  {
   "cell_type": "code",
   "execution_count": 6,
   "metadata": {},
   "outputs": [
    {
     "data": {
      "text/plain": [
       "{'X': 'degrees',\n",
       " 'Y': 'degrees',\n",
       " 'CRS': <Geographic 2D CRS: EPSG:4326>\n",
       " Name: WGS 84\n",
       " Axis Info [ellipsoidal]:\n",
       " - Lat[north]: Geodetic latitude (degree)\n",
       " - Lon[east]: Geodetic longitude (degree)\n",
       " Area of Use:\n",
       " - name: World.\n",
       " - bounds: (-180.0, -90.0, 180.0, 90.0)\n",
       " Datum: World Geodetic System 1984 ensemble\n",
       " - Ellipsoid: WGS 84\n",
       " - Prime Meridian: Greenwich,\n",
       " 'Static Data': [],\n",
       " 'Dynamic Data': ['X', 'Y']}"
      ]
     },
     "execution_count": 6,
     "metadata": {},
     "output_type": "execute_result"
    }
   ],
   "source": [
    "#the metadata dict - this can be edited manually to keep track of data information\n",
    "ds.meta"
   ]
  },
  {
   "cell_type": "markdown",
   "metadata": {},
   "source": [
    "You can also instantiate a `Dataset` using a pandas DataFrame:"
   ]
  },
  {
   "cell_type": "code",
   "execution_count": 10,
   "metadata": {},
   "outputs": [
    {
     "name": "stdout",
     "output_type": "stream",
     "text": [
      "\n",
      "No dataset.db found in c:\\code\\trackio\\notebooks\\files. \n",
      "Using default units/crs. \n",
      "Edit self.meta and then run self.refresh_meta to update.\n",
      "\n"
     ]
    }
   ],
   "source": [
    "#generate a dataframe\n",
    "df = pd.read_csv(files[0])\n",
    "\n",
    "#instantiate the Dataset\n",
    "ds = tio.from_df(df, data_path='files')"
   ]
  },
  {
   "cell_type": "markdown",
   "metadata": {},
   "source": [
    "You can also do it with a geopandas GeoDataFrame. The GeoDataFrame must include a geometry column with only LineStrings, as well as at least one other column which can be used as a unique identifier for each geometry feature."
   ]
  },
  {
   "cell_type": "code",
   "execution_count": 18,
   "metadata": {},
   "outputs": [
    {
     "data": {
      "text/html": [
       "<div>\n",
       "<style scoped>\n",
       "    .dataframe tbody tr th:only-of-type {\n",
       "        vertical-align: middle;\n",
       "    }\n",
       "\n",
       "    .dataframe tbody tr th {\n",
       "        vertical-align: top;\n",
       "    }\n",
       "\n",
       "    .dataframe thead th {\n",
       "        text-align: right;\n",
       "    }\n",
       "</style>\n",
       "<table border=\"1\" class=\"dataframe\">\n",
       "  <thead>\n",
       "    <tr style=\"text-align: right;\">\n",
       "      <th></th>\n",
       "      <th>identifier</th>\n",
       "      <th>geometry</th>\n",
       "    </tr>\n",
       "  </thead>\n",
       "  <tbody>\n",
       "    <tr>\n",
       "      <th>0</th>\n",
       "      <td>1</td>\n",
       "      <td>LINESTRING (-74.03934 40.59620, -74.04682 40.6...</td>\n",
       "    </tr>\n",
       "    <tr>\n",
       "      <th>1</th>\n",
       "      <td>2</td>\n",
       "      <td>LINESTRING (-74.04377 40.59590, -74.04666 40.6...</td>\n",
       "    </tr>\n",
       "    <tr>\n",
       "      <th>2</th>\n",
       "      <td>3</td>\n",
       "      <td>LINESTRING (-74.04270 40.59666, -74.04865 40.6...</td>\n",
       "    </tr>\n",
       "    <tr>\n",
       "      <th>3</th>\n",
       "      <td>4</td>\n",
       "      <td>LINESTRING (-74.04712 40.59941, -74.05246 40.6...</td>\n",
       "    </tr>\n",
       "  </tbody>\n",
       "</table>\n",
       "</div>"
      ],
      "text/plain": [
       "   identifier                                           geometry\n",
       "0           1  LINESTRING (-74.03934 40.59620, -74.04682 40.6...\n",
       "1           2  LINESTRING (-74.04377 40.59590, -74.04666 40.6...\n",
       "2           3  LINESTRING (-74.04270 40.59666, -74.04865 40.6...\n",
       "3           4  LINESTRING (-74.04712 40.59941, -74.05246 40.6..."
      ]
     },
     "execution_count": 18,
     "metadata": {},
     "output_type": "execute_result"
    }
   ],
   "source": [
    "#read the raw data\n",
    "gdf = gp.read_file(f'{data_path}/raw_tracks.gpkg')\n",
    "\n",
    "gdf"
   ]
  },
  {
   "cell_type": "code",
   "execution_count": 25,
   "metadata": {},
   "outputs": [
    {
     "data": {
      "text/plain": [
       "<Axes: >"
      ]
     },
     "execution_count": 25,
     "metadata": {},
     "output_type": "execute_result"
    },
    {
     "data": {
      "image/png": "[encoded data removed]",
      "text/plain": [
       "<Figure size 640x480 with 1 Axes>"
      ]
     },
     "metadata": {},
     "output_type": "display_data"
    }
   ],
   "source": [
    "gdf.plot(column='identifier')"
   ]
  },
  {
   "cell_type": "code",
   "execution_count": 26,
   "metadata": {},
   "outputs": [
    {
     "name": "stdout",
     "output_type": "stream",
     "text": [
      "\n",
      "No dataset.db found in c:\\code\\trackio\\notebooks\\files. \n",
      "Using default units/crs. \n",
      "Edit self.meta and then run self.refresh_meta to update.\n",
      "\n"
     ]
    }
   ],
   "source": [
    "#create the Dataset\n",
    "ds = tio.from_gdf(gdf, data_path=data_path)"
   ]
  },
  {
   "cell_type": "markdown",
   "metadata": {},
   "source": [
    "You cannot run `ds.refresh_meta()` until you start processing the raw data. See the next notebook."
   ]
  }
 ],
 "metadata": {
  "kernelspec": {
   "display_name": "trackio",
   "language": "python",
   "name": "python3"
  },
  "language_info": {
   "codemirror_mode": {
    "name": "ipython",
    "version": 3
   },
   "file_extension": ".py",
   "mimetype": "text/x-python",
   "name": "python",
   "nbconvert_exporter": "python",
   "pygments_lexer": "ipython3",
   "version": "3.10.13"
  }
 },
 "nbformat": 4,
 "nbformat_minor": 2
}
