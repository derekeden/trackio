{
 "cells": [
  {
   "cell_type": "markdown",
   "metadata": {},
   "source": [
    "# This notebook shows you how to clip your raw data files to a bounding box or polygon before actually processing it.\n",
    "\n",
    "# Reducing your data to an area of interest can greatly speed up downstream processing and reduce the need to operate on unnecessary data.\n",
    "\n",
    "# This is often your very first step in an analysis."
   ]
  },
  {
   "cell_type": "code",
   "execution_count": 1,
   "metadata": {},
   "outputs": [],
   "source": [
    "import trackio as tio\n",
    "import glob\n",
    "import geopandas as gp\n",
    "import pandas as pd\n",
    "import matplotlib.pyplot as plt"
   ]
  },
  {
   "cell_type": "markdown",
   "metadata": {},
   "source": [
    "# First, define the raw files."
   ]
  },
  {
   "cell_type": "code",
   "execution_count": 2,
   "metadata": {},
   "outputs": [
    {
     "data": {
      "text/plain": [
       "['./files\\\\AIS_2021_01_01.csv']"
      ]
     },
     "execution_count": 2,
     "metadata": {},
     "output_type": "execute_result"
    }
   ],
   "source": [
    "#define raw data files\n",
    "data_path = './files'\n",
    "files = glob.glob(f'{data_path}/AIS_*.csv')\n",
    "\n",
    "files"
   ]
  },
  {
   "cell_type": "markdown",
   "metadata": {},
   "source": [
    "# Now, make a column mapper so you can handle any column names that are encountered in the data. Here we'll fill the mapper using the built in mapper."
   ]
  },
  {
   "cell_type": "code",
   "execution_count": 3,
   "metadata": {},
   "outputs": [
    {
     "name": "stderr",
     "output_type": "stream",
     "text": [
      "Making column mapper: 100%|\u001b[32m██████████\u001b[0m| 1/1 [00:00<00:00, 665.55it/s]"
     ]
    },
    {
     "name": "stderr",
     "output_type": "stream",
     "text": [
      "\n"
     ]
    },
    {
     "data": {
      "text/plain": [
       "{'BaseDateTime': 'Time',\n",
       " 'COG': 'Coursing',\n",
       " 'CallSign': 'CallSign',\n",
       " 'Cargo': 'Cargo',\n",
       " 'Draft': 'Draft',\n",
       " 'Heading': 'Heading',\n",
       " 'IMO': 'IMO',\n",
       " 'LAT': 'Y',\n",
       " 'LON': 'X',\n",
       " 'Length': 'Length',\n",
       " 'MMSI': 'MMSI',\n",
       " 'SOG': 'Speed',\n",
       " 'Status': 'Status',\n",
       " 'TranscieverClass': 'TranscieverClass',\n",
       " 'VesselName': 'Name',\n",
       " 'VesselType': 'AISCode',\n",
       " 'Width': 'Width'}"
      ]
     },
     "execution_count": 3,
     "metadata": {},
     "output_type": "execute_result"
    }
   ],
   "source": [
    "#make a column mapper for raw data\n",
    "col_mapper = tio.make_col_mapper(files, \n",
    "                                 ncores=1,\n",
    "                                 fill_mapper=tio.mappers.columns)\n",
    "\n",
    "col_mapper"
   ]
  },
  {
   "cell_type": "markdown",
   "metadata": {},
   "source": [
    "# Notice that X,Y,Time columns have been detected and properly mapped."
   ]
  },
  {
   "cell_type": "markdown",
   "metadata": {},
   "source": [
    "# First, you can clip to a polygon:"
   ]
  },
  {
   "cell_type": "code",
   "execution_count": 4,
   "metadata": {},
   "outputs": [
    {
     "data": {
      "image/png": "[encoded data removed]",
      "text/plain": [
       "<Figure size 640x480 with 1 Axes>"
      ]
     },
     "metadata": {},
     "output_type": "display_data"
    }
   ],
   "source": [
    "#read the shp/gpkg/geojson\n",
    "gdf = gp.read_file('files/region.gpkg')\n",
    "gdf.plot()\n",
    "\n",
    "#extract the first (and only) geometry\n",
    "polygon = gdf.geometry[0]"
   ]
  },
  {
   "cell_type": "code",
   "execution_count": 5,
   "metadata": {},
   "outputs": [
    {
     "name": "stderr",
     "output_type": "stream",
     "text": [
      "Clipping raw data: 100%|██████████| 1/1 [00:00<00:00, 666.82it/s]"
     ]
    },
    {
     "name": "stderr",
     "output_type": "stream",
     "text": [
      "\n"
     ]
    },
    {
     "data": {
      "text/plain": [
       "['./files\\\\AIS_2021_01_01_clipped_to_polygon.csv']"
      ]
     },
     "execution_count": 5,
     "metadata": {},
     "output_type": "execute_result"
    }
   ],
   "source": [
    "#clip the raw data files to polygon\n",
    "tio.clip_to_polygon(files, \n",
    "                   polygon, \n",
    "                   col_mapper=col_mapper,\n",
    "                   out_pth=data_path, \n",
    "                   ncores=1, \n",
    "                   pattern='_clipped_to_polygon')\n",
    "\n",
    "#check for the clipped files\n",
    "polygon_files = glob.glob(f'{data_path}/*_clipped_to_polygon*')\n",
    "\n",
    "polygon_files"
   ]
  },
  {
   "cell_type": "markdown",
   "metadata": {},
   "source": [
    "# You can also do the same with a bounding box:"
   ]
  },
  {
   "cell_type": "code",
   "execution_count": 6,
   "metadata": {},
   "outputs": [
    {
     "name": "stderr",
     "output_type": "stream",
     "text": [
      "Clipping raw data: 100%|██████████| 1/1 [00:00<00:00, 499.56it/s]\n"
     ]
    },
    {
     "data": {
      "text/plain": [
       "['./files\\\\AIS_2021_01_01_clipped_to_box.csv']"
      ]
     },
     "execution_count": 6,
     "metadata": {},
     "output_type": "execute_result"
    }
   ],
   "source": [
    "#define the bounding box - (xmin, ymin, xmax, ymax)\n",
    "box = polygon.bounds\n",
    "\n",
    "tio.clip_to_box(files, \n",
    "                box,\n",
    "                col_mapper=col_mapper, \n",
    "                out_pth=data_path, \n",
    "                ncores=4, \n",
    "                pattern='_clipped_to_box')\n",
    "\n",
    "#check for the clipped files\n",
    "box_files = glob.glob(f'{data_path}/*_clipped_to_box*')\n",
    "\n",
    "box_files"
   ]
  },
  {
   "cell_type": "markdown",
   "metadata": {},
   "source": [
    "# Below is a quick comparison of the 3 datasets and their size:"
   ]
  },
  {
   "cell_type": "code",
   "execution_count": 7,
   "metadata": {},
   "outputs": [
    {
     "name": "stdout",
     "output_type": "stream",
     "text": [
      "82335 72599 72599\n"
     ]
    },
    {
     "data": {
      "image/png": "[encoded data removed]",
      "text/plain": [
       "<Figure size 640x480 with 3 Axes>"
      ]
     },
     "metadata": {},
     "output_type": "display_data"
    }
   ],
   "source": [
    "#read the files\n",
    "df1 = pd.read_csv(files[0])\n",
    "df2 = pd.read_csv(polygon_files[0])\n",
    "df3 = pd.read_csv(box_files[0])\n",
    "\n",
    "#print their length\n",
    "print(len(df1), len(df2), len(df3))\n",
    "\n",
    "#plot the points\n",
    "fig, ax = plt.subplots(1,3)\n",
    "ax[0].scatter(df1['LON'], df1['LAT'])\n",
    "ax[1].scatter(df2['X'], df2['Y']) #notice clipped files have column mapping applied\n",
    "ax[2].scatter(df3['X'], df3['Y']) #notice clipped files have column mapping applied\n",
    "\n",
    "#make extents equal\n",
    "for a in ax[1:]:\n",
    "    a.set_xlim(ax[0].get_xlim())\n",
    "    a.set_ylim(ax[0].get_ylim())"
   ]
  },
  {
   "cell_type": "markdown",
   "metadata": {},
   "source": [
    "# The files are now ready to be processed using `trackio`."
   ]
  }
 ],
 "metadata": {
  "kernelspec": {
   "display_name": "trackio",
   "language": "python",
   "name": "python3"
  },
  "language_info": {
   "codemirror_mode": {
    "name": "ipython",
    "version": 3
   },
   "file_extension": ".py",
   "mimetype": "text/x-python",
   "name": "python",
   "nbconvert_exporter": "python",
   "pygments_lexer": "ipython3",
   "version": "3.10.13"
  }
 },
 "nbformat": 4,
 "nbformat_minor": 2
}
