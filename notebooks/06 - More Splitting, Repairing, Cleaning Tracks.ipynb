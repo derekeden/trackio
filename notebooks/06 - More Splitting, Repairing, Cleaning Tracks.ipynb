{
 "cells": [
  {
   "cell_type": "markdown",
   "metadata": {},
   "source": [
    "# Sometimes there's erroneous data that causes the simple spatiotemporal track splitting algorithm (shown [here](https://github.com/derekeden/trackio/blob/main/notebooks/04%20-%20Grouping%20Points%20and%20Splitting%20Tracks.ipynb)) to fail and produce unrealistic tracks. \n",
    "\n",
    "# In this case, you might want to explore isolating this data and splitting it another way. \n",
    "___"
   ]
  },
  {
   "cell_type": "code",
   "execution_count": 6,
   "metadata": {},
   "outputs": [],
   "source": [
    "\n",
    "import trackio as tio\n",
    "import pandas as pd"
   ]
  },
  {
   "cell_type": "markdown",
   "metadata": {},
   "source": [
    "___\n",
    "## Let's define a dataset with some files containing bad data."
   ]
  },
  {
   "cell_type": "code",
   "execution_count": null,
   "metadata": {},
   "outputs": [],
   "source": [
    "#define the data_path\n",
    "data_path = 'example0_bad_data'\n",
    "\n",
    "#define the files\n",
    "files = ['files/bad_data.csv']\n",
    "\n",
    "#read the processed Dataset\n",
    "ds = tio.read(raw_files=files,\n",
    "              data_path=data_path)\n",
    "\n",
    "ds"
   ]
  },
  {
   "cell_type": "markdown",
   "metadata": {},
   "source": [
    "___\n",
    "## Now let's split them using the basic spatiotemporal splitting method:"
   ]
  },
  {
   "cell_type": "code",
   "execution_count": null,
   "metadata": {},
   "outputs": [],
   "source": [
    "#group the points\n",
    "ds = ds.group_points(groupby='MMSI',\n",
    "                     col_mapper=tio.mappers.columns,                        \n",
    "                     meta_cols=['MMSI'],\n",
    "                     prefix='Vessel_',\n",
    "                     ncores=4)\n",
    "#split the tracks\n",
    "ds = ds.split_tracks_spatiotemporal(time=3600*12,\n",
    "                                    distance=0.75)\n",
    "#refresh the meta\n",
    "ds.refresh_meta()"
   ]
  },
  {
   "cell_type": "markdown",
   "metadata": {},
   "source": [
    "___\n",
    "## Let's look for an agent with an abnormal amount of tracks."
   ]
  },
  {
   "cell_type": "code",
   "execution_count": null,
   "metadata": {},
   "outputs": [],
   "source": [
    "#agent id with max number of tracks\n",
    "agents = ds.agents.iloc[[ds.agents['ntracks'].argmax()]]\n",
    "agent_ids = agents.index\n",
    "\n",
    "agents"
   ]
  },
  {
   "cell_type": "markdown",
   "metadata": {},
   "source": [
    "___\n",
    "# If we plot the agent's data, we can clearly see these are three tracks from separate entities that have accidentally use the same unique identifier at the same time"
   ]
  },
  {
   "cell_type": "code",
   "execution_count": null,
   "metadata": {},
   "outputs": [],
   "source": [
    "#convert to GeoDataFrame and plot\n",
    "ds.to_gdf().plot(column='Track ID')"
   ]
  },
  {
   "cell_type": "code",
   "execution_count": null,
   "metadata": {},
   "outputs": [],
   "source": [
    "#convert to dataframe and plot\n",
    "df = ds.to_df(agents=agent_ids)\n",
    "df.plot.scatter(x='X', y='Y', c='Time').set_aspect('equal')"
   ]
  },
  {
   "cell_type": "markdown",
   "metadata": {},
   "source": [
    "___\n",
    "## Instead, we can first try a modified spatiotemporal approach that can account for this issue.\n",
    "\n",
    "This method works using the same spatiotemporal thresholds as the more simple method. However, the algorithm is implemented slightly differently.\n",
    "\n",
    "Here, an initial single track is assumed for the agent, starting with the first point. Then, iteration is performed over points. If the second point falls within the spatiotemporal thresholds of the first point, it is connected to the first track. Otherwise, a second track is created starting with the second point. For the third point, the algorithm checks to see if it falls within the thresholds of any existing tracks and appends it, if not creates a new track. This process is repeated until the last point belonging to the agent."
   ]
  },
  {
   "cell_type": "code",
   "execution_count": null,
   "metadata": {},
   "outputs": [],
   "source": [
    "#split tracks overlapping in time using a modified spatiotemporal threshold\n",
    "ds = ds.split_overlapping_tracks_spatiotemporal(agents=agent_ids,\n",
    "                                                time=3600*12,\n",
    "                                                distance=0.2)\n",
    "\n",
    "#refresh meta\n",
    "ds = ds.refresh_meta()\n",
    "\n",
    "ds.agents"
   ]
  },
  {
   "cell_type": "markdown",
   "metadata": {},
   "source": [
    "___\n",
    "## Notice there are only three tracks now."
   ]
  },
  {
   "cell_type": "code",
   "execution_count": null,
   "metadata": {},
   "outputs": [],
   "source": [
    "#convert to GeoDataFrame and plot\n",
    "ds.to_gdf().plot(column='Track ID')"
   ]
  },
  {
   "cell_type": "markdown",
   "metadata": {},
   "source": [
    "___\n",
    "## Still, spatiotemporal splitting might not be able to separate two closeby tracks. In this case, we can try different clustering algorithms."
   ]
  },
  {
   "cell_type": "markdown",
   "metadata": {},
   "source": [
    "## First, try K-Means first, since we know the number of target clusters.\n",
    "\n",
    "This is a wrapper over the `sklearn.cluster.KMeans` class, and accepts all keyword arguments that the `sklearn` class accepts, see documentation [here](https://scikit-learn.org/stable/modules/generated/sklearn.cluster.KMeans.html)."
   ]
  },
  {
   "cell_type": "code",
   "execution_count": null,
   "metadata": {},
   "outputs": [],
   "source": [
    "#split tracks using kmeans - simply use X,Y coordinates as features\n",
    "ds = ds.split_tracks_kmeans(agents=agent_ids,\n",
    "                            n_clusters=3,\n",
    "                            feature_cols=['X','Y'],\n",
    "                            algorithm='elkan') #the \"llyod\" algorithm actually fails in this example and should be chosen with care\n",
    "\n",
    "#refresh meta\n",
    "ds = ds.refresh_meta()\n",
    "\n",
    "#convert to GeoDataFrame and plot\n",
    "ds.to_gdf().plot(column='Track ID')"
   ]
  },
  {
   "cell_type": "markdown",
   "metadata": {},
   "source": [
    "___\n",
    "## This is a relatively simple example. In some cases this still might not work, or the number of clusters may not be easily identifiable. In which case, there is a DBSCAN based track splitting algorithm."
   ]
  },
  {
   "cell_type": "code",
   "execution_count": null,
   "metadata": {},
   "outputs": [],
   "source": [
    "#split tracks using dbscan - the eps and min_samples may take time to get right for your use case\n",
    "ds = ds.split_tracks_dbscan(agents=agent_ids,\n",
    "                            feature_cols=['X','Y'],\n",
    "                            eps=1,\n",
    "                            min_samples=1)\n",
    "\n",
    "#refresh meta\n",
    "ds = ds.refresh_meta()\n",
    "\n",
    "#convert to GeoDataFrame and plot\n",
    "ds.to_gdf().plot(column='Track ID')"
   ]
  },
  {
   "cell_type": "markdown",
   "metadata": {},
   "source": [
    "___\n",
    "## In some cases, there might be erroneous data points mixed in with good data. This bad data may have slipped through previous pre-processing and QC checks.\n",
    "\n",
    "## An example would be intermittent spurious coordinates in AIS data along an otherwise good looking track."
   ]
  },
  {
   "cell_type": "code",
   "execution_count": 3,
   "metadata": {},
   "outputs": [
    {
     "name": "stdout",
     "output_type": "stream",
     "text": [
      "\n",
      "No dataset.db found in c:\\code\\trackio\\notebooks\\example0_bad_data1. \n",
      "Using default units/crs. \n",
      "Edit self.meta and then run self.refresh_meta to update.\n",
      "\n"
     ]
    },
    {
     "name": "stderr",
     "output_type": "stream",
     "text": [
      "\u001b[92mGrouping points\u001b[0m: 100%|\u001b[32m██████████\u001b[0m| 1/1 [00:00<00:00, 285.73it/s]\n",
      "\u001b[92mSplitting tracks using spatiotemporal threshold\u001b[0m: 100%|\u001b[32m██████████\u001b[0m| 1/1 [00:00<00:00, 30.77it/s]\n",
      "\u001b[92mRefreshing metadata\u001b[0m: 100%|\u001b[32m██████████\u001b[0m| 1/1 [00:00<00:00, 36.36it/s]\n"
     ]
    },
    {
     "name": "stdout",
     "output_type": "stream",
     "text": [
      "New meta/databases saved to c:\\code\\trackio\\notebooks\\example0_bad_data1\n"
     ]
    },
    {
     "name": "stderr",
     "output_type": "stream",
     "text": [
      "\u001b[92mConverting tracks to GeoDataFrame\u001b[0m: 100%|\u001b[32m██████████\u001b[0m| 1/1 [00:00<00:00, 117.56it/s]\n"
     ]
    },
    {
     "data": {
      "text/plain": [
       "<Axes: >"
      ]
     },
     "execution_count": 3,
     "metadata": {},
     "output_type": "execute_result"
    },
    {
     "data": {
      "image/png": "[encoded data removed]",
      "text/plain": [
       "<Figure size 640x480 with 1 Axes>"
      ]
     },
     "metadata": {},
     "output_type": "display_data"
    }
   ],
   "source": [
    "#define the data_path\n",
    "data_path = 'example0_bad_data1'\n",
    "\n",
    "#define the files\n",
    "files = ['files/bad_data1.csv']\n",
    "\n",
    "#read the processed Dataset\n",
    "ds = tio.read(raw_files=files,\n",
    "              data_path=data_path)\n",
    "\n",
    "#split the points\n",
    "ds = ds.group_points(groupby='MMSI',\n",
    "                     col_mapper=tio.mappers.columns,                        \n",
    "                     meta_cols=['MMSI'],\n",
    "                     prefix='Vessel_',\n",
    "                     ncores=4)\n",
    "\n",
    "#split tracks using basic thresholds\n",
    "ds = ds.split_tracks_spatiotemporal(time=3600*12,\n",
    "                                    distance=0.1)\n",
    "\n",
    "#refresh meta\n",
    "ds = ds.refresh_meta()\n",
    "\n",
    "#plot\n",
    "ds.to_gdf().plot(column='Track ID')\n"
   ]
  },
  {
   "cell_type": "markdown",
   "metadata": {},
   "source": [
    "___\n",
    "## In this case, where there is obviously erroneous data, you can try \"repairing\" the spatiotemporal splits.\n",
    "\n",
    "In this type of case, the continuous \"good\" data will be split into separate tracks at the location of the \"bad\" data. This algorithm simply looks at all the possible pairs of tracks in the agent and checks if they can be rejoined based on the threshold, and then will chain together all tracks that have overlapping start/end points."
   ]
  },
  {
   "cell_type": "code",
   "execution_count": 4,
   "metadata": {},
   "outputs": [
    {
     "name": "stderr",
     "output_type": "stream",
     "text": [
      "\u001b[92mRepairing tracks using spatiotemporal threshold\u001b[0m: 100%|\u001b[32m██████████\u001b[0m| 1/1 [00:00<00:00, 200.10it/s]\n",
      "\u001b[92mRefreshing metadata\u001b[0m: 100%|\u001b[32m██████████\u001b[0m| 1/1 [00:00<00:00, 86.91it/s]\n"
     ]
    },
    {
     "name": "stdout",
     "output_type": "stream",
     "text": [
      "New meta/databases saved to c:\\code\\trackio\\notebooks\\example0_bad_data1\n"
     ]
    },
    {
     "name": "stderr",
     "output_type": "stream",
     "text": [
      "\u001b[92mConverting tracks to GeoDataFrame\u001b[0m: 100%|\u001b[32m██████████\u001b[0m| 1/1 [00:00<00:00, 117.68it/s]\n"
     ]
    },
    {
     "data": {
      "text/plain": [
       "<Axes: >"
      ]
     },
     "execution_count": 4,
     "metadata": {},
     "output_type": "execute_result"
    },
    {
     "data": {
      "image/png": "[encoded data removed]",
      "text/plain": [
       "<Figure size 640x480 with 1 Axes>"
      ]
     },
     "metadata": {},
     "output_type": "display_data"
    }
   ],
   "source": [
    "#repair the spatiotemporal splits\n",
    "ds = ds.repair_tracks_spatiotemporal(time=3600*12,\n",
    "                                     distance=0.1)\n",
    "\n",
    "#refresh meta\n",
    "ds = ds.refresh_meta()\n",
    "\n",
    "#plot\n",
    "ds.to_gdf().plot(column='Track ID')"
   ]
  },
  {
   "cell_type": "markdown",
   "metadata": {},
   "source": [
    "# FIX THISSS ^^^"
   ]
  },
  {
   "cell_type": "markdown",
   "metadata": {},
   "source": [
    "___\n",
    "## If one approach doesn't work, try one of the other splitting algorithms. Still if no luck, try to remove this data as part of pre-processing (e.g. clip data overland out of the raw data)."
   ]
  },
  {
   "cell_type": "code",
   "execution_count": 5,
   "metadata": {},
   "outputs": [
    {
     "name": "stderr",
     "output_type": "stream",
     "text": [
      "\u001b[92mUsing DBSCAN clustering to split tracks\u001b[0m: 100%|\u001b[32m██████████\u001b[0m| 1/1 [00:00<00:00, 539.67it/s]\n",
      "\u001b[92mRefreshing metadata\u001b[0m: 100%|\u001b[32m██████████\u001b[0m| 1/1 [00:00<00:00, 58.82it/s]\n"
     ]
    },
    {
     "name": "stdout",
     "output_type": "stream",
     "text": [
      "New meta/databases saved to c:\\code\\trackio\\notebooks\\example0_bad_data1\n"
     ]
    },
    {
     "name": "stderr",
     "output_type": "stream",
     "text": [
      "\u001b[92mConverting tracks to GeoDataFrame\u001b[0m: 100%|\u001b[32m██████████\u001b[0m| 1/1 [00:00<00:00, 117.55it/s]\n"
     ]
    },
    {
     "data": {
      "text/plain": [
       "<Axes: >"
      ]
     },
     "execution_count": 5,
     "metadata": {},
     "output_type": "execute_result"
    },
    {
     "data": {
      "image/png": "[encoded data removed]",
      "text/plain": [
       "<Figure size 640x480 with 1 Axes>"
      ]
     },
     "metadata": {},
     "output_type": "display_data"
    }
   ],
   "source": [
    "#split using DBSCAN\n",
    "ds = ds.split_tracks_dbscan(eps=0.5,\n",
    "                            min_samples=1)\n",
    "\n",
    "#refresh meta\n",
    "ds = ds.refresh_meta()\n",
    "\n",
    "#convert to GeoDataFrame and plot\n",
    "ds.to_gdf().plot(column='Track ID')"
   ]
  },
  {
   "cell_type": "markdown",
   "metadata": {},
   "source": [
    "___\n",
    "## The last way to split tracks is to split based on dynamic data fields along the track itself. \n",
    "\n",
    "## Amongst other use cases, this is useful if you already have a unique identifier for each track and are just trying to get the tracks into the `trackio` framework."
   ]
  },
  {
   "cell_type": "code",
   "execution_count": 15,
   "metadata": {},
   "outputs": [
    {
     "data": {
      "text/plain": [
       "<Axes: xlabel='X', ylabel='Y'>"
      ]
     },
     "execution_count": 15,
     "metadata": {},
     "output_type": "execute_result"
    },
    {
     "data": {
      "image/png": "[encoded data removed]",
      "text/plain": [
       "<Figure size 640x480 with 2 Axes>"
      ]
     },
     "metadata": {},
     "output_type": "display_data"
    }
   ],
   "source": [
    "#make some fake data\n",
    "df1 = pd.DataFrame({'X':[0,1,2], 'Y':[0,1,2]})\n",
    "df1['Track ID'] = 1\n",
    "df2 = df1.copy() + 10\n",
    "df2['Track ID'] = 2\n",
    "df = pd.concat([df1,df2]).reset_index(drop=True)\n",
    "df['Agent ID'] = 1\n",
    "df['Time'] = pd.date_range(pd.to_datetime('now'), freq='1H', periods=len(df))\n",
    "\n",
    "df.plot.scatter(x='X',y='Y',c='Track ID', edgecolor='k')"
   ]
  },
  {
   "cell_type": "code",
   "execution_count": 16,
   "metadata": {},
   "outputs": [
    {
     "data": {
      "text/html": [
       "<div>\n",
       "<style scoped>\n",
       "    .dataframe tbody tr th:only-of-type {\n",
       "        vertical-align: middle;\n",
       "    }\n",
       "\n",
       "    .dataframe tbody tr th {\n",
       "        vertical-align: top;\n",
       "    }\n",
       "\n",
       "    .dataframe thead th {\n",
       "        text-align: right;\n",
       "    }\n",
       "</style>\n",
       "<table border=\"1\" class=\"dataframe\">\n",
       "  <thead>\n",
       "    <tr style=\"text-align: right;\">\n",
       "      <th></th>\n",
       "      <th>X</th>\n",
       "      <th>Y</th>\n",
       "      <th>Track ID</th>\n",
       "      <th>Agent ID</th>\n",
       "      <th>Time</th>\n",
       "    </tr>\n",
       "  </thead>\n",
       "  <tbody>\n",
       "    <tr>\n",
       "      <th>0</th>\n",
       "      <td>0</td>\n",
       "      <td>0</td>\n",
       "      <td>1</td>\n",
       "      <td>1</td>\n",
       "      <td>2024-03-15 00:35:23.930130</td>\n",
       "    </tr>\n",
       "    <tr>\n",
       "      <th>1</th>\n",
       "      <td>1</td>\n",
       "      <td>1</td>\n",
       "      <td>1</td>\n",
       "      <td>1</td>\n",
       "      <td>2024-03-15 01:35:23.930130</td>\n",
       "    </tr>\n",
       "    <tr>\n",
       "      <th>2</th>\n",
       "      <td>2</td>\n",
       "      <td>2</td>\n",
       "      <td>1</td>\n",
       "      <td>1</td>\n",
       "      <td>2024-03-15 02:35:23.930130</td>\n",
       "    </tr>\n",
       "    <tr>\n",
       "      <th>3</th>\n",
       "      <td>10</td>\n",
       "      <td>10</td>\n",
       "      <td>2</td>\n",
       "      <td>1</td>\n",
       "      <td>2024-03-15 03:35:23.930130</td>\n",
       "    </tr>\n",
       "    <tr>\n",
       "      <th>4</th>\n",
       "      <td>11</td>\n",
       "      <td>11</td>\n",
       "      <td>2</td>\n",
       "      <td>1</td>\n",
       "      <td>2024-03-15 04:35:23.930130</td>\n",
       "    </tr>\n",
       "    <tr>\n",
       "      <th>5</th>\n",
       "      <td>12</td>\n",
       "      <td>12</td>\n",
       "      <td>2</td>\n",
       "      <td>1</td>\n",
       "      <td>2024-03-15 05:35:23.930130</td>\n",
       "    </tr>\n",
       "  </tbody>\n",
       "</table>\n",
       "</div>"
      ],
      "text/plain": [
       "    X   Y  Track ID  Agent ID                       Time\n",
       "0   0   0         1         1 2024-03-15 00:35:23.930130\n",
       "1   1   1         1         1 2024-03-15 01:35:23.930130\n",
       "2   2   2         1         1 2024-03-15 02:35:23.930130\n",
       "3  10  10         2         1 2024-03-15 03:35:23.930130\n",
       "4  11  11         2         1 2024-03-15 04:35:23.930130\n",
       "5  12  12         2         1 2024-03-15 05:35:23.930130"
      ]
     },
     "execution_count": 16,
     "metadata": {},
     "output_type": "execute_result"
    }
   ],
   "source": [
    "df"
   ]
  },
  {
   "cell_type": "code",
   "execution_count": 21,
   "metadata": {},
   "outputs": [
    {
     "name": "stdout",
     "output_type": "stream",
     "text": [
      "\n",
      "No dataset.db found in c:\\code\\trackio\\notebooks\\example_split_by_data. \n",
      "Using default units/crs. \n",
      "Edit self.meta and then run self.refresh_meta to update.\n",
      "\n"
     ]
    },
    {
     "name": "stderr",
     "output_type": "stream",
     "text": [
      "\u001b[92mGrouping points\u001b[0m: 100%|\u001b[32m██████████\u001b[0m| 1/1 [00:00<00:00, 182.06it/s]\n"
     ]
    }
   ],
   "source": [
    "#create a dataset, split points\n",
    "ds = tio.from_df(df,\n",
    "                 data_path='./example_split_by_data')\n",
    "\n",
    "#split the points\n",
    "ds = ds.group_points(groupby='Agent ID',\n",
    "                     col_mapper=tio.mappers.columns,                        \n",
    "                     meta_cols=['Agent ID'],\n",
    "                     data_cols=['X','Y','Time','Track ID'],\n",
    "                     prefix='Agent_',\n",
    "                     ncores=1)\n"
   ]
  },
  {
   "cell_type": "markdown",
   "metadata": {},
   "source": [
    "## Now let's split by the `Track ID` dynamic data column. The algorithm will split the data whenever there is a change in the value of this column."
   ]
  },
  {
   "cell_type": "code",
   "execution_count": 24,
   "metadata": {},
   "outputs": [
    {
     "name": "stderr",
     "output_type": "stream",
     "text": [
      "\u001b[92mSplitting tracks by changes in data column\u001b[0m: 100%|\u001b[32m██████████\u001b[0m| 1/1 [00:00<00:00, 105.24it/s]\n",
      "\u001b[92mRefreshing metadata\u001b[0m: 100%|\u001b[32m██████████\u001b[0m| 1/1 [00:00<00:00, 117.56it/s]\n"
     ]
    },
    {
     "name": "stdout",
     "output_type": "stream",
     "text": [
      "New meta/databases saved to c:\\code\\trackio\\notebooks\\example_split_by_data\n"
     ]
    },
    {
     "name": "stderr",
     "output_type": "stream",
     "text": [
      "\u001b[92mConverting tracks to GeoDataFrame\u001b[0m: 100%|\u001b[32m██████████\u001b[0m| 1/1 [00:00<00:00, 71.44it/s]\n"
     ]
    },
    {
     "data": {
      "text/plain": [
       "<Axes: >"
      ]
     },
     "execution_count": 24,
     "metadata": {},
     "output_type": "execute_result"
    },
    {
     "data": {
      "image/png": "[encoded data removed]",
      "text/plain": [
       "<Figure size 640x480 with 1 Axes>"
      ]
     },
     "metadata": {},
     "output_type": "display_data"
    }
   ],
   "source": [
    "#split by data by dynamic data column\n",
    "ds = ds.split_tracks_by_data(data_col='Track ID')\n",
    "\n",
    "#refresh meta\n",
    "ds = ds.refresh_meta()\n",
    "\n",
    "#convert to geodataframe and plot\n",
    "ds.to_gdf().plot(column='Track ID')"
   ]
  },
  {
   "cell_type": "markdown",
   "metadata": {},
   "source": [
    "___\n",
    "## You can also use this for splitting tracks into sub-tracks based on particular dynamic data fields, such as splitting out portions of tracks within polygons, or splitting tracks at some major event (e.g. a stop).\n",
    "\n",
    "## See [11 - Analysis.ipynb](https://github.com/derekeden/trackio/blob/main/notebooks/11%20-%20Analysis.ipynb) for an example of this.\n",
    "___"
   ]
  }
 ],
 "metadata": {
  "kernelspec": {
   "display_name": "trackio",
   "language": "python",
   "name": "python3"
  },
  "language_info": {
   "codemirror_mode": {
    "name": "ipython",
    "version": 3
   },
   "file_extension": ".py",
   "mimetype": "text/x-python",
   "name": "python",
   "nbconvert_exporter": "python",
   "pygments_lexer": "ipython3",
   "version": "3.10.13"
  }
 },
 "nbformat": 4,
 "nbformat_minor": 2
}
