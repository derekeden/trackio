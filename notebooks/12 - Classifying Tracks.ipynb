{
 "cells": [
  {
   "cell_type": "code",
   "execution_count": null,
   "metadata": {},
   "outputs": [],
   "source": [
    "classify inpoly\n",
    "inpolys\n",
    "speed\n",
    "speed_in_polygon\n",
    "classify turns\n",
    "classify trip\n",
    "touching\n",
    "Stops\n",
    "custom"
   ]
  }
 ],
 "metadata": {
  "language_info": {
   "name": "python"
  }
 },
 "nbformat": 4,
 "nbformat_minor": 2
}
