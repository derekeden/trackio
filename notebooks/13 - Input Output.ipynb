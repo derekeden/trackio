{
 "cells": [
  {
   "cell_type": "code",
   "execution_count": null,
   "metadata": {},
   "outputs": [],
   "source": [
    "get agent/s track/s\n",
    "to gdf\n",
    "to segment gdf\n",
    "to df\n",
    "to dask\n",
    "rasterizing"
   ]
  }
 ],
 "metadata": {
  "language_info": {
   "name": "python"
  }
 },
 "nbformat": 4,
 "nbformat_minor": 2
}
